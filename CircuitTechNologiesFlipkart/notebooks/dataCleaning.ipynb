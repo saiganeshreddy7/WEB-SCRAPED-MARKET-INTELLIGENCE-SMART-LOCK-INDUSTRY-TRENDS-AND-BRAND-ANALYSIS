{
 "cells": [
  {
   "cell_type": "code",
   "execution_count": 2,
   "metadata": {},
   "outputs": [],
   "source": [
    "import pandas as pd\n",
    "import matplotlib.pyplot as plt\n",
    "import seaborn as sns"
   ]
  },
  {
   "cell_type": "code",
   "execution_count": 4,
   "metadata": {},
   "outputs": [
    {
     "data": {
      "text/html": [
       "<div>\n",
       "<style scoped>\n",
       "    .dataframe tbody tr th:only-of-type {\n",
       "        vertical-align: middle;\n",
       "    }\n",
       "\n",
       "    .dataframe tbody tr th {\n",
       "        vertical-align: top;\n",
       "    }\n",
       "\n",
       "    .dataframe thead th {\n",
       "        text-align: right;\n",
       "    }\n",
       "</style>\n",
       "<table border=\"1\" class=\"dataframe\">\n",
       "  <thead>\n",
       "    <tr style=\"text-align: right;\">\n",
       "      <th></th>\n",
       "      <th>Title</th>\n",
       "      <th>Brand</th>\n",
       "      <th>Price</th>\n",
       "      <th>Rating</th>\n",
       "      <th>Rating Count</th>\n",
       "      <th>Review Count</th>\n",
       "      <th>URL</th>\n",
       "    </tr>\n",
       "  </thead>\n",
       "  <tbody>\n",
       "    <tr>\n",
       "      <th>0</th>\n",
       "      <td>Qubo Elite Lock by HERO GROUP 5-Way Unlocking ...</td>\n",
       "      <td>Qubo</td>\n",
       "      <td>₹13,490</td>\n",
       "      <td>5.0</td>\n",
       "      <td>5 Ratings &amp;</td>\n",
       "      <td>1 Reviews</td>\n",
       "      <td>https://www.flipkart.com/qubo-elite-lock-hero-...</td>\n",
       "    </tr>\n",
       "    <tr>\n",
       "      <th>1</th>\n",
       "      <td>Qubo HERO GROUP 5-Way Unlocking Fingerprint Pi...</td>\n",
       "      <td>Qubo</td>\n",
       "      <td>₹15,990</td>\n",
       "      <td>4.4</td>\n",
       "      <td>30 Ratings &amp;</td>\n",
       "      <td>2 Reviews</td>\n",
       "      <td>https://www.flipkart.com/qubo-hero-group-5-way...</td>\n",
       "    </tr>\n",
       "    <tr>\n",
       "      <th>2</th>\n",
       "      <td>Drumstone E-Lock Smart Keyless Entry | App Con...</td>\n",
       "      <td>Drumstone</td>\n",
       "      <td>₹3,499</td>\n",
       "      <td>3.8</td>\n",
       "      <td>0</td>\n",
       "      <td>0</td>\n",
       "      <td>https://www.flipkart.com/drumstone-e-lock-smar...</td>\n",
       "    </tr>\n",
       "    <tr>\n",
       "      <th>3</th>\n",
       "      <td>V I R V 02 Smart Door Lock</td>\n",
       "      <td>V I R</td>\n",
       "      <td>₹15,000</td>\n",
       "      <td>4.4</td>\n",
       "      <td>0</td>\n",
       "      <td>0</td>\n",
       "      <td>https://www.flipkart.com/v-r-02-smart-door-loc...</td>\n",
       "    </tr>\n",
       "    <tr>\n",
       "      <th>4</th>\n",
       "      <td>Worksaat Smart Solutions digital Smart Door Lock</td>\n",
       "      <td>Worksaat Smart Solutions</td>\n",
       "      <td>₹26,999</td>\n",
       "      <td>4.3</td>\n",
       "      <td>0</td>\n",
       "      <td>0</td>\n",
       "      <td>https://www.flipkart.com/worksaat-smart-soluti...</td>\n",
       "    </tr>\n",
       "  </tbody>\n",
       "</table>\n",
       "</div>"
      ],
      "text/plain": [
       "                                               Title  \\\n",
       "0  Qubo Elite Lock by HERO GROUP 5-Way Unlocking ...   \n",
       "1  Qubo HERO GROUP 5-Way Unlocking Fingerprint Pi...   \n",
       "2  Drumstone E-Lock Smart Keyless Entry | App Con...   \n",
       "3                         V I R V 02 Smart Door Lock   \n",
       "4   Worksaat Smart Solutions digital Smart Door Lock   \n",
       "\n",
       "                      Brand    Price  Rating  Rating Count Review Count  \\\n",
       "0                      Qubo  ₹13,490     5.0   5 Ratings &    1 Reviews   \n",
       "1                      Qubo  ₹15,990     4.4  30 Ratings &    2 Reviews   \n",
       "2                 Drumstone   ₹3,499     3.8             0            0   \n",
       "3                     V I R  ₹15,000     4.4             0            0   \n",
       "4  Worksaat Smart Solutions  ₹26,999     4.3             0            0   \n",
       "\n",
       "                                                 URL  \n",
       "0  https://www.flipkart.com/qubo-elite-lock-hero-...  \n",
       "1  https://www.flipkart.com/qubo-hero-group-5-way...  \n",
       "2  https://www.flipkart.com/drumstone-e-lock-smar...  \n",
       "3  https://www.flipkart.com/v-r-02-smart-door-loc...  \n",
       "4  https://www.flipkart.com/worksaat-smart-soluti...  "
      ]
     },
     "execution_count": 4,
     "metadata": {},
     "output_type": "execute_result"
    }
   ],
   "source": [
    "file_path = '/Users/saiganeshreddykodekandla/Documents/projects/circuitTechnologies/CircuitTechNologiesFlipkart/CSV_files/flipkartData.csv'\n",
    "df = pd.read_csv(file_path)\n",
    "df.head()"
   ]
  },
  {
   "cell_type": "code",
   "execution_count": 5,
   "metadata": {},
   "outputs": [
    {
     "name": "stdout",
     "output_type": "stream",
     "text": [
      "Number of rows: 234, Number of columns: 7\n"
     ]
    }
   ],
   "source": [
    "# Step 2: Get the number of rows and columns\n",
    "rows, columns = df.shape\n",
    "print(f\"Number of rows: {rows}, Number of columns: {columns}\")"
   ]
  },
  {
   "cell_type": "code",
   "execution_count": 6,
   "metadata": {},
   "outputs": [],
   "source": [
    "# Step 3: Find and count duplicate titles\n",
    "duplicate_titles = df['Title'].value_counts()\n",
    "repeated_titles = duplicate_titles[duplicate_titles > 1]  # Filter for repeated titles"
   ]
  },
  {
   "cell_type": "code",
   "execution_count": 7,
   "metadata": {},
   "outputs": [
    {
     "name": "stdout",
     "output_type": "stream",
     "text": [
      "                                                Title  Repeated_Times\n",
      "0   Atomberg SL1 With Fingerprint, PIN, OTP, NFC C...               9\n",
      "1    Pooja Info Tauch Smart door lock Smart Door Lock               8\n",
      "2   SPEEDY WiFi Enabled Smart Door Lock for Main D...               6\n",
      "3   Yale YDME 100 NxT Smart Digital Lock for Woode...               6\n",
      "4   BonKaso H9 Smart Door Lock for Home and Office...               6\n",
      "5   Yale YTYE Silver with Mechanical Key, Pin Code...               6\n",
      "6   BonKaso H6 Smart Door Lock for Home and Office...               6\n",
      "7   Yale YDME 50 NxT with Biometric, Mech Keys, Al...               6\n",
      "8   SPEEDY Wi-Fi Rim Lock for Internal Doors | Sma...               6\n",
      "9   Qubo Elite Lock by HERO GROUP 5-Way Unlocking ...               6\n",
      "10  Qubo Smart Elite by HERO GROUP 5-Way Unlocking...               6\n",
      "11  SPEEDY WiFi Enabled Smart Door Lock for Main D...               6\n",
      "12  Atomberg Azhero With Fingerprint, PIN, OTP, NF...               6\n",
      "13  SPEEDY Wifi Enabled Smart Door Lock for Main D...               6\n",
      "14  iPlug Smart Door Lock i-x7 | 4-Way Unlocking |...               5\n",
      "15  iPlug Smart Door Lock i-04 Copper | 6-Way Unlo...               5\n",
      "16  Qubo HERO GROUP 5-Way Unlocking Fingerprint Pi...               4\n",
      "17  Yale TYE Black Digital Door Lock with Mechanic...               3\n",
      "18  WildCard India Fingerprint Padlock Smart Door ...               3\n",
      "19  iPlug Smart Door Lock i-05 |6-Way Unlocking |W...               2\n",
      "20  iPlug Smart Door Lock i-02 | 6-Way Unlocking |...               2\n",
      "21  olsic Smart Fingerprint Padlock Waterproof Key...               2\n",
      "22               amiciSmart Biometric Smart Door Lock               2\n",
      "23                         lumia JAWS Smart Door Lock               2\n",
      "24  RS MegaMART Luxury with LCD Display, Wi-Fi Rem...               2\n",
      "25                                                  0               2\n"
     ]
    }
   ],
   "source": [
    "# Display the results as a DataFrame\n",
    "result = repeated_titles.reset_index()\n",
    "result.columns = ['Title', 'Repeated_Times']\n",
    "print(result)"
   ]
  },
  {
   "cell_type": "code",
   "execution_count": 9,
   "metadata": {},
   "outputs": [],
   "source": [
    "# Step 4: Remove duplicate titles, keeping only the first occurrence\n",
    "df_unique = df.drop_duplicates(subset=['Title'], keep='first')"
   ]
  },
  {
   "cell_type": "code",
   "execution_count": 10,
   "metadata": {},
   "outputs": [],
   "source": [
    "# Step 5: Remove rows where 'Title' is empty or contains '0'\n",
    "df_cleaned = df_unique[~df_unique['Title'].isin(['', '0'])].dropna(subset=['Title'])"
   ]
  },
  {
   "cell_type": "code",
   "execution_count": 11,
   "metadata": {},
   "outputs": [],
   "source": [
    "# Step 6: Remove currency symbols from the 'Price' column\n",
    "df_cleaned['Price'] = df_cleaned['Price'].replace(r'[^\\d.]', '', regex=True).astype(float)"
   ]
  },
  {
   "cell_type": "code",
   "execution_count": 12,
   "metadata": {},
   "outputs": [],
   "source": [
    "# Step 7: Remove non-numeric characters from 'Rating Count' and 'Review Count' columns\n",
    "df_cleaned['Rating Count'] = df_cleaned['Rating Count'].replace(r'[^\\d]', '', regex=True).astype(float)\n",
    "df_cleaned['Review Count'] = df_cleaned['Review Count'].replace(r'[^\\d]', '', regex=True).astype(float)"
   ]
  },
  {
   "cell_type": "code",
   "execution_count": 13,
   "metadata": {},
   "outputs": [
    {
     "name": "stdout",
     "output_type": "stream",
     "text": [
      "Cleaned data saved to: /Users/saiganeshreddykodekandla/Documents/projects/circuitTechnologies/CircuitTechNologiesFlipkart/CSV_files/flipkartCleanedDataFile.csv\n"
     ]
    }
   ],
   "source": [
    "# Step 8: Save the cleaned DataFrame to a new CSV file\n",
    "cleaned_file_path = '/Users/saiganeshreddykodekandla/Documents/projects/circuitTechnologies/CircuitTechNologiesFlipkart/CSV_files/flipkartCleanedDataFile.csv'\n",
    "df_cleaned.to_csv(cleaned_file_path, index=False)\n",
    "print(\"Cleaned data saved to:\", cleaned_file_path)\n"
   ]
  }
 ],
 "metadata": {
  "kernelspec": {
   "display_name": "Python 3",
   "language": "python",
   "name": "python3"
  },
  "language_info": {
   "codemirror_mode": {
    "name": "ipython",
    "version": 3
   },
   "file_extension": ".py",
   "mimetype": "text/x-python",
   "name": "python",
   "nbconvert_exporter": "python",
   "pygments_lexer": "ipython3",
   "version": "3.12.2"
  }
 },
 "nbformat": 4,
 "nbformat_minor": 2
}
