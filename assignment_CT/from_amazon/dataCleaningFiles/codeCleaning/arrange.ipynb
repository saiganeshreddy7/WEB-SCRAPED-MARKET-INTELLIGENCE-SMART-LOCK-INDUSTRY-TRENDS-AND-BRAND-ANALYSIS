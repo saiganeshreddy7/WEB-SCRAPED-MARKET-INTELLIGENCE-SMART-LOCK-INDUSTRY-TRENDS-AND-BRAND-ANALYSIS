{
 "cells": [
  {
   "cell_type": "code",
   "execution_count": 21,
   "metadata": {},
   "outputs": [
    {
     "name": "stdout",
     "output_type": "stream",
     "text": [
      "Rows where Product_Title is exactly '0' (as a string) have been removed.\n"
     ]
    }
   ],
   "source": [
    "import pandas as pd\n",
    "\n",
    "# Load the CSV file\n",
    "df = pd.read_csv('./CurrentWorkingFile/BSTEmptycellfilledwith0.csv')\n",
    "\n",
    "# Filter out rows where Product_Title is exactly \"0\" (as a string)\n",
    "df = df[df['Brand'] != \"0\"]\n",
    "\n",
    "# Save the filtered DataFrame back to a CSV file\n",
    "df.to_csv('./CurrentWorkingFile/No0brandcells.csv', index=False)\n",
    "\n",
    "print(\"Rows where Product_Title is exactly '0' (as a string) have been removed.\")\n"
   ]
  },
  {
   "cell_type": "code",
   "execution_count": 11,
   "metadata": {},
   "outputs": [
    {
     "name": "stdout",
     "output_type": "stream",
     "text": [
      "The CSV file has been updated successfully.\n"
     ]
    }
   ],
   "source": [
    "import pandas as pd\n",
    "\n",
    "# Load the CSV file\n",
    "df = pd.read_csv('./CurrentWorkingFile/movingColums.csv')\n",
    "\n",
    "# Get unique brand names from the Brand column, excluding 0\n",
    "brands = df[df['Brand'] != '0']['Brand'].unique()\n",
    "\n",
    "# Function to replace '0' in Brand with matched brand from Product_Title\n",
    "def replace_brand(row):\n",
    "    if row['Brand'] == '0':\n",
    "        for brand in brands:\n",
    "            if brand in row['Product_Title']:\n",
    "                return brand\n",
    "    return row['Brand']\n",
    "\n",
    "# Apply the function to the Brand column\n",
    "df['Brand'] = df.apply(replace_brand, axis=1)\n",
    "\n",
    "# Save the updated DataFrame back to a CSV file\n",
    "df.to_csv('./CurrentWorkingFile/brandColumsUpdated.csv', index=False)\n",
    "\n",
    "print(\"The CSV file has been updated successfully.\")\n"
   ]
  },
  {
   "cell_type": "code",
   "execution_count": 19,
   "metadata": {},
   "outputs": [
    {
     "name": "stdout",
     "output_type": "stream",
     "text": [
      "All blank fields in Best_Seller_Rank_Home_Security have been replaced with 0.\n"
     ]
    }
   ],
   "source": [
    "import pandas as pd\n",
    "\n",
    "# Load the CSV file\n",
    "df = pd.read_csv('./CurrentWorkingFile/brandColumsUpdated.csv')\n",
    "\n",
    "def check_and_replace(value):\n",
    "    if isinstance(value, int) or (isinstance(value, float) and value.is_integer()):\n",
    "        return value  # Keep integer values\n",
    "    return 0  # Replace with 0 if not an integer\n",
    "\n",
    "# Apply the function to the Best_Seller_Rank_Home_Security column\n",
    "df['Best_Seller_Rank_Home_Security'] = df['Best_Seller_Rank_Home_Security'].apply(check_and_replace)\n",
    "\n",
    "# Save the updated DataFrame back to the CSV file\n",
    "df.to_csv('./CurrentWorkingFile/BSTEmptycellfilledwith0.csv', index=False)\n",
    "\n",
    "print(\"All blank fields in Best_Seller_Rank_Home_Security have been replaced with 0.\")\n"
   ]
  },
  {
   "cell_type": "code",
   "execution_count": 22,
   "metadata": {},
   "outputs": [
    {
     "name": "stdout",
     "output_type": "stream",
     "text": [
      "There are 23 cells containing only 0 in the Price column.\n"
     ]
    }
   ],
   "source": [
    "import pandas as pd\n",
    "\n",
    "# Load the CSV file\n",
    "df = pd.read_csv('./CurrentWorkingFile/No0brandcells.csv')\n",
    "\n",
    "# Count cells in the Price column that are exactly 0\n",
    "count_zero_in_price = (df['Price'] == 0).sum()\n",
    "\n",
    "print(f\"There are {count_zero_in_price} cells containing only 0 in the Price column.\")\n"
   ]
  },
  {
   "cell_type": "code",
   "execution_count": 23,
   "metadata": {},
   "outputs": [
    {
     "name": "stdout",
     "output_type": "stream",
     "text": [
      "All values in the Price column have been converted to integers.\n"
     ]
    }
   ],
   "source": [
    "import pandas as pd\n",
    "\n",
    "# Load the CSV file\n",
    "df = pd.read_csv('./CurrentWorkingFile/No0brandcells.csv')\n",
    "\n",
    "# Convert Price column to integers, rounding any float values\n",
    "df['Price'] = df['Price'].apply(lambda x: round(x) if isinstance(x, float) else int(x))\n",
    "\n",
    "# Save the updated DataFrame back to the CSV file\n",
    "df.to_csv('./CurrentWorkingFile/NoFloatPricesCells.csv', index=False)\n",
    "\n",
    "print(\"All values in the Price column have been converted to integers.\")\n"
   ]
  },
  {
   "cell_type": "code",
   "execution_count": 24,
   "metadata": {},
   "outputs": [
    {
     "name": "stdout",
     "output_type": "stream",
     "text": [
      "Data types corrected. Corrected CSV saved as 'corrected_data.csv'.\n"
     ]
    }
   ],
   "source": [
    "import pandas as pd\n",
    "import numpy as np\n",
    "\n",
    "# Load CSV file\n",
    "file_path = './CurrentWorkingFile/NoFloatPricesCells.csv'  # Update with the correct file path\n",
    "data = pd.read_csv(file_path)\n",
    "\n",
    "# Correct data types\n",
    "# Convert columns to string type where needed\n",
    "data['Brand'] = data['Brand'].astype(str)\n",
    "data['Product_Title'] = data['Product_Title'].astype(str)\n",
    "data['Product_URL'] = data['Product_URL'].astype(str)\n",
    "\n",
    "# Convert Best_Seller_Rank_Home_Security to integer\n",
    "# Handle cases where values are NaN or floats\n",
    "if data['Best_Seller_Rank_Home_Security'].dtype == 'float64':\n",
    "    # Fill NaN values with a placeholder value or drop rows with NaN if required\n",
    "    data['Best_Seller_Rank_Home_Security'] = data['Best_Seller_Rank_Home_Security'].fillna(0).astype(int)\n",
    "\n",
    "# Save the corrected CSV (optional)\n",
    "corrected_file_path = './CurrentWorkingFile/DataMisMatch_corrected_data.csv'\n",
    "data.to_csv(corrected_file_path, index=False)\n",
    "\n",
    "print(\"Data types corrected. Corrected CSV saved as 'corrected_data.csv'.\")\n"
   ]
  },
  {
   "cell_type": "code",
   "execution_count": 25,
   "metadata": {},
   "outputs": [
    {
     "name": "stdout",
     "output_type": "stream",
     "text": [
      "Brand names converted to lowercase. Corrected CSV saved as 'corrected_data_lowercase_brands.csv'.\n"
     ]
    }
   ],
   "source": [
    "import pandas as pd\n",
    "\n",
    "# Load CSV file\n",
    "file_path = './CurrentWorkingFile/DataMisMatch_corrected_data.csv'  # Update with the correct file path\n",
    "data = pd.read_csv(file_path)\n",
    "\n",
    "# Convert the 'Brand' column to lowercase\n",
    "data['Brand'] = data['Brand'].str.lower()\n",
    "\n",
    "# Save the corrected CSV (optional)\n",
    "corrected_file_path = './CurrentWorkingFile/corrected_data_lowercase_brands.csv'\n",
    "data.to_csv(corrected_file_path, index=False)\n",
    "\n",
    "print(\"Brand names converted to lowercase. Corrected CSV saved as 'corrected_data_lowercase_brands.csv'.\")\n"
   ]
  },
  {
   "cell_type": "code",
   "execution_count": 27,
   "metadata": {},
   "outputs": [
    {
     "name": "stdout",
     "output_type": "stream",
     "text": [
      "Data type mismatches corrected, outliers filtered.\n",
      "Corrected CSV saved as './CurrentWorkingFile/corrected_data_for_analysis.csv'\n"
     ]
    }
   ],
   "source": [
    "import pandas as pd\n",
    "import numpy as np\n",
    "\n",
    "# Load CSV file\n",
    "file_path = './CurrentWorkingFile/corrected_data_lowercase_brands.csv'  # Update with the correct file path\n",
    "data = pd.read_csv(file_path)\n",
    "\n",
    "# 1. Correct Data Types\n",
    "data['Brand'] = data['Brand'].astype(str)\n",
    "data['Product_Title'] = data['Product_Title'].astype(str)\n",
    "data['Product_URL'] = data['Product_URL'].astype(str)\n",
    "\n",
    "# 2. Handle Rank Outliers (remove non-positive values)\n",
    "data = data[data['Best_Seller_Rank_Home_Improvement'] > 0]\n",
    "data = data[data['Best_Seller_Rank_Home_Security'] > 0]\n",
    "\n",
    "# 3. Check for Unique Brands (lowercase for consistency)\n",
    "# data['Brand'] = data['Brand'].str.lower()\n",
    "# unique_brands = data['Brand'].nunique()\n",
    "\n",
    "# 4. Save Corrected File\n",
    "corrected_file_path = './CurrentWorkingFile/corrected_data_for_analysis.csv'\n",
    "data.to_csv(corrected_file_path, index=False)\n",
    "\n",
    "# Report Summary\n",
    "print(\"Data type mismatches corrected, outliers filtered.\")\n",
    "\n",
    "print(f\"Corrected CSV saved as '{corrected_file_path}'\")\n"
   ]
  },
  {
   "cell_type": "code",
   "execution_count": 30,
   "metadata": {},
   "outputs": [
    {
     "name": "stdout",
     "output_type": "stream",
     "text": [
      "Negative values in 'Best_Seller_Rank_Home_Improvement':\n",
      "Empty DataFrame\n",
      "Columns: [Brand, Best_Seller_Rank_Home_Improvement]\n",
      "Index: []\n",
      "\n",
      "Negative values in 'Best_Seller_Rank_Home_Security':\n",
      "Empty DataFrame\n",
      "Columns: [Brand, Best_Seller_Rank_Home_Security]\n",
      "Index: []\n",
      "\n",
      "Total negative values in 'Best_Seller_Rank_Home_Improvement': 0\n",
      "Total negative values in 'Best_Seller_Rank_Home_Security': 0\n"
     ]
    }
   ],
   "source": [
    "import pandas as pd\n",
    "\n",
    "# Load CSV file\n",
    "file_path = './CurrentWorkingFile/corrected_data_lowercase_brands.csv'  # Update with the correct file path\n",
    "data = pd.read_csv(file_path)\n",
    "\n",
    "# Identify negative values in the specified columns\n",
    "negative_improvement = data[data['Best_Seller_Rank_Home_Improvement'] < 0]\n",
    "negative_security = data[data['Best_Seller_Rank_Home_Security'] < 0]\n",
    "\n",
    "# Display the negative values\n",
    "print(\"Negative values in 'Best_Seller_Rank_Home_Improvement':\")\n",
    "print(negative_improvement[['Brand', 'Best_Seller_Rank_Home_Improvement']])\n",
    "\n",
    "print(\"\\nNegative values in 'Best_Seller_Rank_Home_Security':\")\n",
    "print(negative_security[['Brand', 'Best_Seller_Rank_Home_Security']])\n",
    "\n",
    "# Count of negative values\n",
    "negative_count_improvement = len(negative_improvement)\n",
    "negative_count_security = len(negative_security)\n",
    "\n",
    "print(f\"\\nTotal negative values in 'Best_Seller_Rank_Home_Improvement': {negative_count_improvement}\")\n",
    "print(f\"Total negative values in 'Best_Seller_Rank_Home_Security': {negative_count_security}\")\n"
   ]
  },
  {
   "cell_type": "code",
   "execution_count": 31,
   "metadata": {},
   "outputs": [
    {
     "name": "stdout",
     "output_type": "stream",
     "text": [
      "Both rank columns combined into an average rank. New CSV saved as './CurrentWorkingFile/data_with_average_rank.csv'\n"
     ]
    }
   ],
   "source": [
    "import pandas as pd\n",
    "\n",
    "# Load CSV file\n",
    "file_path = './CurrentWorkingFile/corrected_data_lowercase_brands.csv'  # Update with the correct file path\n",
    "data = pd.read_csv(file_path)\n",
    "\n",
    "# Calculate the average rank\n",
    "data['Average_Best_Seller_Rank'] = data[['Best_Seller_Rank_Home_Improvement', 'Best_Seller_Rank_Home_Security']].mean(axis=1)\n",
    "\n",
    "# Optionally, drop the original columns if no longer needed\n",
    "data.drop(columns=['Best_Seller_Rank_Home_Improvement', 'Best_Seller_Rank_Home_Security'], inplace=True)\n",
    "\n",
    "# Save the updated DataFrame to a new CSV file\n",
    "average_file_path = './CurrentWorkingFile/data_with_average_rank.csv'\n",
    "data.to_csv(average_file_path, index=False)\n",
    "\n",
    "print(f\"Both rank columns combined into an average rank. New CSV saved as '{average_file_path}'\")\n"
   ]
  },
  {
   "cell_type": "code",
   "execution_count": 32,
   "metadata": {},
   "outputs": [
    {
     "name": "stdout",
     "output_type": "stream",
     "text": [
      "All values in the Average_Best_Seller_Rank column have been rounded and converted to integers.\n"
     ]
    }
   ],
   "source": [
    "import pandas as pd\n",
    "\n",
    "# Load the CSV file\n",
    "df = pd.read_csv('./CurrentWorkingFile/data_with_average_rank.csv')\n",
    "\n",
    "# Convert Average_Best_Seller_Rank column to integers, rounding any float values\n",
    "df['Average_Best_Seller_Rank'] = df['Average_Best_Seller_Rank'].apply(lambda x: round(x))\n",
    "\n",
    "# Save the updated DataFrame back to the CSV file\n",
    "df.to_csv('./CurrentWorkingFile/data_with_average_rank.csv', index=False)\n",
    "\n",
    "print(\"All values in the Average_Best_Seller_Rank column have been rounded and converted to integers.\")\n"
   ]
  },
  {
   "cell_type": "code",
   "execution_count": 33,
   "metadata": {},
   "outputs": [
    {
     "name": "stdout",
     "output_type": "stream",
     "text": [
      "Column 7 moved after column 4. New CSV saved as './CurrentWorkingFile/data_with_reordered_columns.csv'\n"
     ]
    }
   ],
   "source": [
    "import pandas as pd\n",
    "\n",
    "# Load the CSV file\n",
    "file_path = './CurrentWorkingFile/data_with_average_rank.csv'  # Update with the correct file path\n",
    "data = pd.read_csv(file_path)\n",
    "\n",
    "# Get the current column names\n",
    "columns = list(data.columns)\n",
    "\n",
    "# Move column 7 (which is at index 6) after column 4 (which is at index 3)\n",
    "# Assuming the column names are generic as '1', '2', ..., '7'\n",
    "column_to_move = columns.pop(6)  # Remove column 7 from the list\n",
    "columns.insert(4, column_to_move)  # Insert it after column 4\n",
    "\n",
    "# Reorder the DataFrame based on the new column order\n",
    "data = data[columns]\n",
    "\n",
    "# Save the updated DataFrame to a new CSV file\n",
    "reordered_file_path = './CurrentWorkingFile/data_with_reordered_columns.csv'\n",
    "data.to_csv(reordered_file_path, index=False)\n",
    "\n",
    "print(f\"Column 7 moved after column 4. New CSV saved as '{reordered_file_path}'\")\n"
   ]
  },
  {
   "cell_type": "code",
   "execution_count": 34,
   "metadata": {},
   "outputs": [
    {
     "name": "stdout",
     "output_type": "stream",
     "text": [
      "The Product_Title column has been dropped from the DataFrame.\n"
     ]
    }
   ],
   "source": [
    "import pandas as pd\n",
    "\n",
    "# Load the CSV file\n",
    "df = pd.read_csv('./CurrentWorkingFile/data_with_reordered_columns.csv')\n",
    "\n",
    "# Drop the Product_Title column\n",
    "df.drop(columns=['Product_Title'], inplace=True)\n",
    "\n",
    "# Save the updated DataFrame back to the CSV file\n",
    "df.to_csv('./ZfinalCsvfilesforAnalyssis/final_file.csv', index=False)\n",
    "\n",
    "print(\"The Product_Title column has been dropped from the DataFrame.\")\n"
   ]
  },
  {
   "cell_type": "code",
   "execution_count": 1,
   "metadata": {},
   "outputs": [
    {
     "name": "stdout",
     "output_type": "stream",
     "text": [
      "Brand names converted to lowercase. Corrected CSV saved as 'corrected_data_lowercase_brands.csv'.\n"
     ]
    }
   ],
   "source": [
    "import pandas as pd\n",
    "\n",
    "# Load CSV file\n",
    "file_path = './CurrentWorkingFile/data_with_reordered_columns.csv'  # Update with the correct file path\n",
    "data = pd.read_csv(file_path)\n",
    "\n",
    "# Convert the 'Brand' column to lowercase\n",
    "data['Product_Title'] = data['Product_Title'].str.lower()\n",
    "\n",
    "# Save the corrected CSV (optional)\n",
    "corrected_file_path = './CurrentWorkingFile/FinalFile.csv'\n",
    "data.to_csv(corrected_file_path, index=False)\n",
    "\n",
    "print(\"Brand names converted to lowercase. Corrected CSV saved as 'corrected_data_lowercase_brands.csv'.\")\n"
   ]
  }
 ],
 "metadata": {
  "kernelspec": {
   "display_name": "Python 3",
   "language": "python",
   "name": "python3"
  },
  "language_info": {
   "codemirror_mode": {
    "name": "ipython",
    "version": 3
   },
   "file_extension": ".py",
   "mimetype": "text/x-python",
   "name": "python",
   "nbconvert_exporter": "python",
   "pygments_lexer": "ipython3",
   "version": "3.12.2"
  }
 },
 "nbformat": 4,
 "nbformat_minor": 2
}
